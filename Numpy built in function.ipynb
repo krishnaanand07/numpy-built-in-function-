{
 "cells": [
  {
   "cell_type": "markdown",
   "id": "0198275e-14cb-49bf-9510-c38410bbda45",
   "metadata": {},
   "source": [
    "# 1. Array Creation Functions"
   ]
  },
  {
   "cell_type": "code",
   "execution_count": 3,
   "id": "bd0ad752-d8ff-4dd9-a964-6e036cd26a66",
   "metadata": {},
   "outputs": [],
   "source": [
    "import numpy as np"
   ]
  },
  {
   "cell_type": "code",
   "execution_count": 5,
   "id": "325aa9cf-dcb7-4181-b620-50629ed79f7c",
   "metadata": {},
   "outputs": [
    {
     "name": "stdout",
     "output_type": "stream",
     "text": [
      "Array a: [1 2 3]\n"
     ]
    }
   ],
   "source": [
    "a = np.array([1, 2, 3])\n",
    "print(\"Array a:\", a)"
   ]
  },
  {
   "cell_type": "code",
   "execution_count": 7,
   "id": "0d5b7cee-7ad3-4665-8c60-2eedbee863c9",
   "metadata": {},
   "outputs": [
    {
     "name": "stdout",
     "output_type": "stream",
     "text": [
      "Array b: [0 2 4 6 8]\n"
     ]
    }
   ],
   "source": [
    "b = np.arange(0, 10, 2)   \n",
    "print(\"Array b:\", b)"
   ]
  },
  {
   "cell_type": "code",
   "execution_count": 9,
   "id": "d73786b7-bc6c-4fad-a0e4-cdc0d69312d3",
   "metadata": {},
   "outputs": [
    {
     "name": "stdout",
     "output_type": "stream",
     "text": [
      "Array c: [0.   0.25 0.5  0.75 1.  ]\n"
     ]
    }
   ],
   "source": [
    "c = np.linspace(0, 1, 5)   \n",
    "print(\"Array c:\", c)"
   ]
  },
  {
   "cell_type": "code",
   "execution_count": 11,
   "id": "4d47415f-4227-4ba5-b57d-04ab035d0085",
   "metadata": {},
   "outputs": [
    {
     "name": "stdout",
     "output_type": "stream",
     "text": [
      "Array d:\n",
      " [[0. 0. 0.]\n",
      " [0. 0. 0.]]\n"
     ]
    }
   ],
   "source": [
    "d = np.zeros((2, 3))   \n",
    "print(\"Array d:\\n\", d)"
   ]
  },
  {
   "cell_type": "code",
   "execution_count": 13,
   "id": "1cb29069-a091-4114-807f-2e38a910749d",
   "metadata": {},
   "outputs": [
    {
     "name": "stdout",
     "output_type": "stream",
     "text": [
      "Array e:\n",
      " [[1. 1.]\n",
      " [1. 1.]\n",
      " [1. 1.]]\n"
     ]
    }
   ],
   "source": [
    "e = np.ones((3, 2))   \n",
    "print(\"Array e:\\n\", e)"
   ]
  },
  {
   "cell_type": "code",
   "execution_count": 15,
   "id": "c68f6310-c762-4009-a698-d98283678632",
   "metadata": {},
   "outputs": [
    {
     "name": "stdout",
     "output_type": "stream",
     "text": [
      "Identity matrix f:\n",
      " [[1. 0. 0. 0.]\n",
      " [0. 1. 0. 0.]\n",
      " [0. 0. 1. 0.]\n",
      " [0. 0. 0. 1.]]\n"
     ]
    }
   ],
   "source": [
    "f = np.eye(4)  \n",
    "print(\"Identity matrix f:\\n\", f)"
   ]
  },
  {
   "cell_type": "markdown",
   "id": "726e0a88-f54d-4790-98cd-b5b083160c00",
   "metadata": {},
   "source": [
    "# 2. Array Manipulation Functions"
   ]
  },
  {
   "cell_type": "code",
   "execution_count": 18,
   "id": "a7d99a43-a562-40eb-87d6-73fafa7ab6a8",
   "metadata": {},
   "outputs": [
    {
     "name": "stdout",
     "output_type": "stream",
     "text": [
      "Reshaped array: [[1 2 3]]\n"
     ]
    }
   ],
   "source": [
    "a1 = np.array([1, 2, 3])\n",
    "reshaped = np.reshape(a1, (1, 3))   \n",
    "print(\"Reshaped array:\", reshaped)"
   ]
  },
  {
   "cell_type": "code",
   "execution_count": 20,
   "id": "693493ab-8f84-41ec-9c07-9a4d470a8fbf",
   "metadata": {},
   "outputs": [
    {
     "name": "stdout",
     "output_type": "stream",
     "text": [
      "Flattened array: [1 2 3 4]\n"
     ]
    }
   ],
   "source": [
    "f1 = np.array([[1, 2], [3, 4]])\n",
    "flattened = np.ravel(f1)   \n",
    "print(\"Flattened array:\", flattened)"
   ]
  },
  {
   "cell_type": "code",
   "execution_count": 22,
   "id": "ac99f1ca-acf1-4419-a65f-2bfee3cf1ae1",
   "metadata": {},
   "outputs": [
    {
     "name": "stdout",
     "output_type": "stream",
     "text": [
      "Transposed array:\n",
      " [[1 3]\n",
      " [2 4]]\n"
     ]
    }
   ],
   "source": [
    "e1 = np.array([[1, 2], [3, 4]])\n",
    "transposed = np.transpose(e1)  \n",
    "print(\"Transposed array:\\n\", transposed)"
   ]
  },
  {
   "cell_type": "code",
   "execution_count": 24,
   "id": "5515fa80-612a-474d-8e40-1deb18822a64",
   "metadata": {},
   "outputs": [
    {
     "name": "stdout",
     "output_type": "stream",
     "text": [
      "Stacked arrays:\n",
      " [[1 2]\n",
      " [3 4]]\n"
     ]
    }
   ],
   "source": [
    "a2 = np.array([1, 2])\n",
    "b2 = np.array([3, 4])\n",
    "stacked = np.vstack([a2, b2])  \n",
    "print(\"Stacked arrays:\\n\", stacked)"
   ]
  },
  {
   "cell_type": "markdown",
   "id": "c41004a2-6315-485f-ba4f-2cebf7b47559",
   "metadata": {},
   "source": [
    "# 3. Mathematical Functions"
   ]
  },
  {
   "cell_type": "code",
   "execution_count": 29,
   "id": "33f5fbcd-8772-43af-9ede-67318a59a617",
   "metadata": {},
   "outputs": [
    {
     "name": "stdout",
     "output_type": "stream",
     "text": [
      "Added 2 to g: [7 3 5 6]\n"
     ]
    }
   ],
   "source": [
    "g = np.array([5, 1, 3, 4])\n",
    "added = np.add(g, 2)   \n",
    "print(\"Added 2 to g:\", added)"
   ]
  },
  {
   "cell_type": "code",
   "execution_count": 31,
   "id": "9b6b2f2a-2502-45ed-8a09-7874f0625d7c",
   "metadata": {},
   "outputs": [
    {
     "name": "stdout",
     "output_type": "stream",
     "text": [
      "Squared g: [25  1  9 16]\n"
     ]
    }
   ],
   "source": [
    "squared = np.power(g, 2)   \n",
    "print(\"Squared g:\", squared)"
   ]
  },
  {
   "cell_type": "code",
   "execution_count": 33,
   "id": "81793469-bc14-465d-95b6-3642062edf99",
   "metadata": {},
   "outputs": [
    {
     "name": "stdout",
     "output_type": "stream",
     "text": [
      "Square root of g: [2.23606798 1.         1.73205081 2.        ]\n"
     ]
    }
   ],
   "source": [
    "sqrt_val = np.sqrt(g)   \n",
    "print(\"Square root of g:\", sqrt_val)"
   ]
  },
  {
   "cell_type": "code",
   "execution_count": 35,
   "id": "fc7dbc8b-ba39-4990-8f9c-2439bcab008e",
   "metadata": {},
   "outputs": [
    {
     "name": "stdout",
     "output_type": "stream",
     "text": [
      "[1 2 3]\n",
      "[5 1 3 4]\n"
     ]
    }
   ],
   "source": [
    "print(a1)\n",
    "print(g)"
   ]
  },
  {
   "cell_type": "code",
   "execution_count": 37,
   "id": "0a9ba645-0b12-4579-b87f-f7173a8a68c7",
   "metadata": {},
   "outputs": [
    {
     "ename": "ValueError",
     "evalue": "shapes (3,) and (4,) not aligned: 3 (dim 0) != 4 (dim 0)",
     "output_type": "error",
     "traceback": [
      "\u001b[1;31m---------------------------------------------------------------------------\u001b[0m",
      "\u001b[1;31mValueError\u001b[0m                                Traceback (most recent call last)",
      "Cell \u001b[1;32mIn[37], line 2\u001b[0m\n\u001b[0;32m      1\u001b[0m a2 \u001b[38;5;241m=\u001b[39m np\u001b[38;5;241m.\u001b[39marray([\u001b[38;5;241m1\u001b[39m, \u001b[38;5;241m2\u001b[39m, \u001b[38;5;241m3\u001b[39m])\n\u001b[1;32m----> 2\u001b[0m dot_product \u001b[38;5;241m=\u001b[39m np\u001b[38;5;241m.\u001b[39mdot(a2, g)   \n\u001b[0;32m      3\u001b[0m \u001b[38;5;28mprint\u001b[39m(\u001b[38;5;124m\"\u001b[39m\u001b[38;5;124mDot product of a and g:\u001b[39m\u001b[38;5;124m\"\u001b[39m, dot_product)\n",
      "\u001b[1;31mValueError\u001b[0m: shapes (3,) and (4,) not aligned: 3 (dim 0) != 4 (dim 0)"
     ]
    }
   ],
   "source": [
    "a2 = np.array([1, 2, 3])\n",
    "dot_product = np.dot(a2, g)   \n",
    "print(\"Dot product of a and g:\", dot_product)"
   ]
  },
  {
   "cell_type": "code",
   "execution_count": 39,
   "id": "39e4565b-e98d-49f2-a7ad-31b9cbed0c8d",
   "metadata": {},
   "outputs": [
    {
     "name": "stdout",
     "output_type": "stream",
     "text": [
      "[1 2 3]\n",
      "[1 2 3]\n"
     ]
    }
   ],
   "source": [
    "print(a)\n",
    "print(a1)"
   ]
  },
  {
   "cell_type": "code",
   "execution_count": 41,
   "id": "95bc9acd-edb9-423e-8da7-0532143b9461",
   "metadata": {},
   "outputs": [
    {
     "name": "stdout",
     "output_type": "stream",
     "text": [
      "Dot product of a1 and a: 14\n"
     ]
    }
   ],
   "source": [
    "a3 = np.array([1, 2, 3])\n",
    "dot_product = np.dot(a1, a)   \n",
    "print(\"Dot product of a1 and a:\", dot_product)"
   ]
  },
  {
   "cell_type": "markdown",
   "id": "86cbd61e-553b-4926-ba04-d31ddd5ccd95",
   "metadata": {},
   "source": [
    "# 4. Statistical Functions"
   ]
  },
  {
   "cell_type": "code",
   "execution_count": 44,
   "id": "4e7d0216-35b2-4480-a4d9-4fd21c99bb39",
   "metadata": {},
   "outputs": [
    {
     "name": "stdout",
     "output_type": "stream",
     "text": [
      "Mean of s: 6.5\n"
     ]
    }
   ],
   "source": [
    "s = np.array([5, 6, 7, 8])\n",
    "mean = np.mean(s)\n",
    "print(\"Mean of s:\", mean)"
   ]
  },
  {
   "cell_type": "code",
   "execution_count": 46,
   "id": "926debd1-d873-4fa6-9ad5-1d7b0815da9d",
   "metadata": {},
   "outputs": [
    {
     "name": "stdout",
     "output_type": "stream",
     "text": [
      "Standard deviation of s: 1.118033988749895\n"
     ]
    }
   ],
   "source": [
    "std_dev = np.std(s)\n",
    "print(\"Standard deviation of s:\", std_dev)"
   ]
  },
  {
   "cell_type": "code",
   "execution_count": 48,
   "id": "8bc57d05-6f74-49a0-b7ab-7ca7658623db",
   "metadata": {},
   "outputs": [
    {
     "name": "stdout",
     "output_type": "stream",
     "text": [
      "Min of s: 5\n"
     ]
    }
   ],
   "source": [
    "minimum = np.min(s)\n",
    "print(\"Min of s:\", minimum)"
   ]
  },
  {
   "cell_type": "code",
   "execution_count": 50,
   "id": "2d24e374-254c-4447-96dd-99fde8fb5d3d",
   "metadata": {},
   "outputs": [
    {
     "name": "stdout",
     "output_type": "stream",
     "text": [
      "Max of s: 8\n"
     ]
    }
   ],
   "source": [
    "maximum = np.max(s)\n",
    "print(\"Max of s:\", maximum)"
   ]
  },
  {
   "cell_type": "markdown",
   "id": "065e7499-6738-4c4c-9756-47851d11b865",
   "metadata": {},
   "source": [
    "# 5. Linear Algebra Functions"
   ]
  },
  {
   "cell_type": "code",
   "execution_count": 53,
   "id": "013d119f-d6d2-467c-89b8-250b55575c44",
   "metadata": {},
   "outputs": [],
   "source": [
    "matrix = np.array([[1, 2], [3, 4]])"
   ]
  },
  {
   "cell_type": "code",
   "execution_count": 55,
   "id": "5dfeb076-2547-4c1e-8472-d4ae8169f6ad",
   "metadata": {},
   "outputs": [
    {
     "name": "stdout",
     "output_type": "stream",
     "text": [
      "Determinant of matrix: -2.0000000000000004\n"
     ]
    }
   ],
   "source": [
    "determinant = np.linalg.det(matrix)\n",
    "print(\"Determinant of matrix:\", determinant)"
   ]
  },
  {
   "cell_type": "code",
   "execution_count": 57,
   "id": "bf1bcbb0-ad28-4d87-9a06-6838d1c986ff",
   "metadata": {},
   "outputs": [
    {
     "name": "stdout",
     "output_type": "stream",
     "text": [
      "Inverse of matrix:\n",
      " [[-2.   1. ]\n",
      " [ 1.5 -0.5]]\n"
     ]
    }
   ],
   "source": [
    "inverse = np.linalg.inv(matrix)\n",
    "print(\"Inverse of matrix:\\n\", inverse)"
   ]
  },
  {
   "cell_type": "markdown",
   "id": "ddb9735c-8998-4a8e-8b65-f28e3dd8a92a",
   "metadata": {},
   "source": [
    "# 6. Random Sampling Functions"
   ]
  },
  {
   "cell_type": "code",
   "execution_count": 61,
   "id": "9438ccea-9a1f-4732-9032-fc54fc6b4e29",
   "metadata": {},
   "outputs": [
    {
     "name": "stdout",
     "output_type": "stream",
     "text": [
      "Random values: [0.57594211 0.21128034 0.81957335]\n"
     ]
    }
   ],
   "source": [
    "random_vals = np.random.rand(3)   \n",
    "print(\"Random values:\", random_vals)"
   ]
  },
  {
   "cell_type": "code",
   "execution_count": 63,
   "id": "a1230bed-60d6-4ffb-8616-40a7c6b90004",
   "metadata": {},
   "outputs": [
    {
     "name": "stdout",
     "output_type": "stream",
     "text": [
      "Random values: [0.5488135  0.71518937 0.60276338]\n"
     ]
    }
   ],
   "source": [
    "np.random.seed(0)\n",
    "\n",
    "\n",
    "random_vals = np.random.rand(3)  \n",
    "print(\"Random values:\", random_vals)"
   ]
  },
  {
   "cell_type": "code",
   "execution_count": 65,
   "id": "90fdb894-0c66-44e2-bd32-2f5c9ed7e447",
   "metadata": {},
   "outputs": [
    {
     "name": "stdout",
     "output_type": "stream",
     "text": [
      "Random integers: [3 7 9 3 5]\n"
     ]
    }
   ],
   "source": [
    "rand_ints = np.random.randint(0, 10, size=5)  \n",
    "print(\"Random integers:\", rand_ints)"
   ]
  },
  {
   "cell_type": "code",
   "execution_count": 67,
   "id": "6d517637-7b04-449b-b7cc-aa948a48e5aa",
   "metadata": {},
   "outputs": [
    {
     "name": "stdout",
     "output_type": "stream",
     "text": [
      "Random integers: [5 0 3 3 7]\n"
     ]
    }
   ],
   "source": [
    "np.random.seed(0)\n",
    "\n",
    "\n",
    "rand_ints = np.random.randint(0, 10, size=5) \n",
    "print(\"Random integers:\", rand_ints)"
   ]
  },
  {
   "cell_type": "markdown",
   "id": "547af823-fd29-4d4b-9453-5f3c756c66a8",
   "metadata": {},
   "source": [
    "# 7. Boolean & Logical Functions"
   ]
  },
  {
   "cell_type": "code",
   "execution_count": 70,
   "id": "a9088fd8-6d88-4cb3-8cba-b1e81e33ed73",
   "metadata": {},
   "outputs": [
    {
     "name": "stdout",
     "output_type": "stream",
     "text": [
      "All elements True: False\n"
     ]
    }
   ],
   "source": [
    "logical_test = np.array([True, False, True])\n",
    "all_true = np.all(logical_test)   \n",
    "print(\"All elements True:\", all_true)"
   ]
  },
  {
   "cell_type": "code",
   "execution_count": 72,
   "id": "37261455-2ed7-4e09-b0d1-d8a6479b8757",
   "metadata": {},
   "outputs": [
    {
     "name": "stdout",
     "output_type": "stream",
     "text": [
      "All elements True: False\n"
     ]
    }
   ],
   "source": [
    "logical_test = np.array([True, False, True])\n",
    "all_true = np.all(logical_test)   \n",
    "print(\"All elements True:\", all_true)"
   ]
  },
  {
   "cell_type": "code",
   "execution_count": 74,
   "id": "a3d3172d-2456-47e6-b02d-32b6fa6df30d",
   "metadata": {},
   "outputs": [
    {
     "name": "stdout",
     "output_type": "stream",
     "text": [
      "All elements True: False\n"
     ]
    }
   ],
   "source": [
    "logical_test = np.array([False, False, False])\n",
    "all_true = np.all(logical_test)   \n",
    "print(\"All elements True:\", all_true)"
   ]
  },
  {
   "cell_type": "code",
   "execution_count": 76,
   "id": "3c26a83f-f6a2-4c43-9b39-53f621e1e92b",
   "metadata": {},
   "outputs": [
    {
     "name": "stdout",
     "output_type": "stream",
     "text": [
      "Any elements True: False\n"
     ]
    }
   ],
   "source": [
    "any_true = np.any(logical_test)   \n",
    "print(\"Any elements True:\", any_true)"
   ]
  },
  {
   "cell_type": "markdown",
   "id": "c0cde792-8070-4842-8f32-cf732b8df4a2",
   "metadata": {},
   "source": [
    "# 8. Set Operations"
   ]
  },
  {
   "cell_type": "code",
   "execution_count": 79,
   "id": "31895c22-88d0-487d-a30b-95f71bb33d09",
   "metadata": {},
   "outputs": [
    {
     "name": "stdout",
     "output_type": "stream",
     "text": [
      "Intersection of a and b: [3 4]\n"
     ]
    }
   ],
   "source": [
    "set_a = np.array([1, 2, 3, 4])\n",
    "set_b = np.array([3, 4, 5, 6])\n",
    "intersection = np.intersect1d(set_a, set_b)\n",
    "print(\"Intersection of a and b:\", intersection)"
   ]
  },
  {
   "cell_type": "code",
   "execution_count": 81,
   "id": "8b750cfd-8972-4234-982c-43536bd434ba",
   "metadata": {},
   "outputs": [
    {
     "name": "stdout",
     "output_type": "stream",
     "text": [
      "Union of a and b: [1 2 3 4 5 6]\n"
     ]
    }
   ],
   "source": [
    "union = np.union1d(set_a, set_b)\n",
    "print(\"Union of a and b:\", union)"
   ]
  },
  {
   "cell_type": "markdown",
   "id": "63a2459a-d680-4271-b837-edef536f6e43",
   "metadata": {},
   "source": [
    "# 9. Array Attribute Functions"
   ]
  },
  {
   "cell_type": "code",
   "execution_count": 84,
   "id": "9f87799a-caee-42c2-b5ae-e1991b675c59",
   "metadata": {},
   "outputs": [
    {
     "name": "stdout",
     "output_type": "stream",
     "text": [
      "Shape of a: (3,)\n",
      "Size of a: 3\n",
      "Number of dimensions of a: 1\n",
      "Data type of a: int64\n"
     ]
    }
   ],
   "source": [
    "a = np.array([1, 2, 3])\n",
    "shape = a.shape   \n",
    "size = a.size    \n",
    "dimensions = a.ndim  \n",
    "dtype = a.dtype   \n",
    "\n",
    "print(\"Shape of a:\", shape)\n",
    "print(\"Size of a:\", size)\n",
    "print(\"Number of dimensions of a:\", dimensions)\n",
    "print(\"Data type of a:\", dtype)"
   ]
  },
  {
   "cell_type": "markdown",
   "id": "990014f7-1e14-4592-8cc6-a21093fdcbd3",
   "metadata": {},
   "source": [
    "# 10"
   ]
  },
  {
   "cell_type": "code",
   "execution_count": 87,
   "id": "dcdaba3b-2159-42d3-8964-81e810b1aafb",
   "metadata": {},
   "outputs": [
    {
     "name": "stdout",
     "output_type": "stream",
     "text": [
      "Copied array: [1 2 3]\n"
     ]
    }
   ],
   "source": [
    "a = np.array([1, 2, 3])\n",
    "copied_array = np.copy(a)   \n",
    "print(\"Copied array:\", copied_array)"
   ]
  },
  {
   "cell_type": "code",
   "execution_count": 89,
   "id": "b2bd7240-835d-4d1d-b982-61775a413b1f",
   "metadata": {},
   "outputs": [
    {
     "name": "stdout",
     "output_type": "stream",
     "text": [
      "Size of a in bytes: 24\n"
     ]
    }
   ],
   "source": [
    "array_size_in_bytes = a.nbytes   \n",
    "print(\"Size of a in bytes:\", array_size_in_bytes)"
   ]
  },
  {
   "cell_type": "code",
   "execution_count": 91,
   "id": "c42a6746-720f-47a8-bd02-01aece37d74d",
   "metadata": {},
   "outputs": [
    {
     "name": "stdout",
     "output_type": "stream",
     "text": [
      "Do a and copied_array share memory? False\n"
     ]
    }
   ],
   "source": [
    "shared = np.shares_memory(a, copied_array)   \n",
    "print(\"Do a and copied_array share memory?\", shared)"
   ]
  }
 ],
 "metadata": {
  "kernelspec": {
   "display_name": "Python 3 (ipykernel)",
   "language": "python",
   "name": "python3"
  },
  "language_info": {
   "codemirror_mode": {
    "name": "ipython",
    "version": 3
   },
   "file_extension": ".py",
   "mimetype": "text/x-python",
   "name": "python",
   "nbconvert_exporter": "python",
   "pygments_lexer": "ipython3",
   "version": "3.12.7"
  }
 },
 "nbformat": 4,
 "nbformat_minor": 5
}
